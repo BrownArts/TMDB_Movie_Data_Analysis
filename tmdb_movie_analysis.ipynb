{
 "cells": [
  {
   "cell_type": "markdown",
   "id": "ad7cafaf",
   "metadata": {},
   "source": [
    "# Project: TMDb Movie Data Analysis\n",
    "\n",
    "\n",
    "### _by Osaze Agho_\n",
    "\n",
    "\n",
    "## Table of Contents\n",
    "<ul>\n",
    "<li><a href=\"#intro\">Introduction</a></li>\n",
    "<li><a href=\"#wrangling\">Data Wrangling</a></li>\n",
    "<li><a href=\"#eda\">Exploratory Data Analysis</a></li>\n",
    "<li><a href=\"#conclusions\">Conclusions</a></li>\n",
    "<li><a href=\"#limitations\">Limitations</a></li>\n",
    "</ul>"
   ]
  },
  {
   "cell_type": "markdown",
   "id": "3607b16d",
   "metadata": {},
   "source": [
    "<a id ='intro'></a>\n",
    "## Introduction"
   ]
  },
  {
   "cell_type": "markdown",
   "id": "f07ebe0c",
   "metadata": {},
   "source": [
    "### Dataset Description\n",
    "\n",
    "This dataset contains information of about 10,800 movies collected from The Movie Database (TMDb), including user ratings and revenue. \n",
    "\n",
    "\n",
    "The dataset contains the following features:\n",
    "- `id` - A unique identifier for each movie\n",
    "\n",
    "- `imdb_id` - A unique identifier for each movie on IMBD website\n",
    "\n",
    "- `popularity` - A numeric quantity specifying movie popularity\n",
    "\n",
    "- `budget` - All costs relating to the development, production, and post-production of the movie\n",
    "\n",
    "- `revenue` - The total revenue generated through movie sales\n",
    "\n",
    "- `original_title` - The title of the movie before translation or adaptation\n",
    "\n",
    "- `cast` - The name of lead and supporting actors\n",
    "\n",
    "- `homepage` - A link to the original homepage of the movie\n",
    "\n",
    "- `director` - Name(s) of the person(s) that determine the creative vision of the movie\n",
    "\n",
    "- `tagline` - Movie's tagline\n",
    "\n",
    "- `keywords` - The keywords or tags related to the movie\n",
    "\n",
    "- `overview` - A brief description of the movie\n",
    "\n",
    "- `runtime` - The running time of the movie in minutes\n",
    "\n",
    "- `genres` - The category of the movie charactierized by a particular style.e.g  Action, Comedy etc.\n",
    "\n",
    "- `production_companies` - The production house of the movie\n",
    "\n",
    "- `release_date` - The date on which the movie was released\n",
    "\n",
    "- `vote_count` - The count of votes recieved\n",
    "\n",
    "- `vote_average` - Average ratings the movie recieved\n",
    "\n",
    "- `release year` - The year in which the movie was released\n",
    "\n",
    "- `budget_adj` - The budget of the movie in terms of 2010 dollars, accounting for inflation over time\n",
    "\n",
    "- `revenue_adj` - The revenue of the movie in terms of 2010 dollars, accounting for inflation over time"
   ]
  },
  {
   "cell_type": "markdown",
   "id": "4620306a",
   "metadata": {},
   "source": [
    "## Question(s) for Analysis\n",
    "\n",
    "1. What kinds of properties are associated with movies that have high revenues?\n",
    "\n",
    "\n",
    "2.  Is there an association between a Movie Success and Popularity?\n",
    "\n",
    "\n",
    "3. What Movie Genre is most popular amongst people?\n",
    "\n",
    "\n",
    "4. Over the years, what genre has produced the most movies??\n",
    "\n",
    "\n",
    "5. Top Directors based on Movie Popularity?\n",
    "\n",
    "\n",
    "6. When are most movies released in the year?\n"
   ]
  },
  {
   "cell_type": "code",
   "execution_count": 1,
   "id": "ddcb2d99",
   "metadata": {},
   "outputs": [],
   "source": [
    "# import packages\n",
    "\n",
    "import numpy as np\n",
    "import pandas as pd\n",
    "import matplotlib.pyplot as plt\n",
    "import seaborn as sns\n",
    "\n",
    "%matplotlib inline\n",
    "\n",
    "sns.set_style('darkgrid')"
   ]
  },
  {
   "cell_type": "markdown",
   "id": "b09abd8e",
   "metadata": {},
   "source": [
    "<a id ='wrangling'></a>\n",
    "## Data Wrangling \n",
    "In this section, we will:\n",
    " - Gather the data\n",
    " - Assess the data\n",
    " - Clean the data"
   ]
  },
  {
   "cell_type": "markdown",
   "id": "4e449a69",
   "metadata": {},
   "source": [
    "### | Gather the Data\n",
    "The data needed to answer the questions will be loaded for analysis"
   ]
  },
  {
   "cell_type": "code",
   "execution_count": 2,
   "id": "9995d3f6",
   "metadata": {},
   "outputs": [
    {
     "data": {
      "text/html": [
       "<div>\n",
       "<style scoped>\n",
       "    .dataframe tbody tr th:only-of-type {\n",
       "        vertical-align: middle;\n",
       "    }\n",
       "\n",
       "    .dataframe tbody tr th {\n",
       "        vertical-align: top;\n",
       "    }\n",
       "\n",
       "    .dataframe thead th {\n",
       "        text-align: right;\n",
       "    }\n",
       "</style>\n",
       "<table border=\"1\" class=\"dataframe\">\n",
       "  <thead>\n",
       "    <tr style=\"text-align: right;\">\n",
       "      <th></th>\n",
       "      <th>id</th>\n",
       "      <th>imdb_id</th>\n",
       "      <th>popularity</th>\n",
       "      <th>budget</th>\n",
       "      <th>revenue</th>\n",
       "      <th>original_title</th>\n",
       "      <th>cast</th>\n",
       "      <th>homepage</th>\n",
       "      <th>director</th>\n",
       "      <th>tagline</th>\n",
       "      <th>...</th>\n",
       "      <th>overview</th>\n",
       "      <th>runtime</th>\n",
       "      <th>genres</th>\n",
       "      <th>production_companies</th>\n",
       "      <th>release_date</th>\n",
       "      <th>vote_count</th>\n",
       "      <th>vote_average</th>\n",
       "      <th>release_year</th>\n",
       "      <th>budget_adj</th>\n",
       "      <th>revenue_adj</th>\n",
       "    </tr>\n",
       "  </thead>\n",
       "  <tbody>\n",
       "    <tr>\n",
       "      <th>0</th>\n",
       "      <td>135397</td>\n",
       "      <td>tt0369610</td>\n",
       "      <td>32.985763</td>\n",
       "      <td>150000000</td>\n",
       "      <td>1513528810</td>\n",
       "      <td>Jurassic World</td>\n",
       "      <td>Chris Pratt|Bryce Dallas Howard|Irrfan Khan|Vi...</td>\n",
       "      <td>http://www.jurassicworld.com/</td>\n",
       "      <td>Colin Trevorrow</td>\n",
       "      <td>The park is open.</td>\n",
       "      <td>...</td>\n",
       "      <td>Twenty-two years after the events of Jurassic ...</td>\n",
       "      <td>124</td>\n",
       "      <td>Action|Adventure|Science Fiction|Thriller</td>\n",
       "      <td>Universal Studios|Amblin Entertainment|Legenda...</td>\n",
       "      <td>2006-09-15</td>\n",
       "      <td>5562</td>\n",
       "      <td>6.5</td>\n",
       "      <td>2015</td>\n",
       "      <td>137999939.3</td>\n",
       "      <td>1.392446e+09</td>\n",
       "    </tr>\n",
       "    <tr>\n",
       "      <th>1</th>\n",
       "      <td>76341</td>\n",
       "      <td>tt1392190</td>\n",
       "      <td>28.419936</td>\n",
       "      <td>150000000</td>\n",
       "      <td>378436354</td>\n",
       "      <td>Mad Max: Fury Road</td>\n",
       "      <td>Tom Hardy|Charlize Theron|Hugh Keays-Byrne|Nic...</td>\n",
       "      <td>http://www.madmaxmovie.com/</td>\n",
       "      <td>George Miller</td>\n",
       "      <td>What a Lovely Day.</td>\n",
       "      <td>...</td>\n",
       "      <td>An apocalyptic story set in the furthest reach...</td>\n",
       "      <td>120</td>\n",
       "      <td>Action|Adventure|Science Fiction|Thriller</td>\n",
       "      <td>Village Roadshow Pictures|Kennedy Miller Produ...</td>\n",
       "      <td>5/13/15</td>\n",
       "      <td>6185</td>\n",
       "      <td>7.1</td>\n",
       "      <td>2015</td>\n",
       "      <td>137999939.3</td>\n",
       "      <td>3.481613e+08</td>\n",
       "    </tr>\n",
       "    <tr>\n",
       "      <th>2</th>\n",
       "      <td>262500</td>\n",
       "      <td>tt2908446</td>\n",
       "      <td>13.112507</td>\n",
       "      <td>110000000</td>\n",
       "      <td>295238201</td>\n",
       "      <td>Insurgent</td>\n",
       "      <td>Shailene Woodley|Theo James|Kate Winslet|Ansel...</td>\n",
       "      <td>http://www.thedivergentseries.movie/#insurgent</td>\n",
       "      <td>Robert Schwentke</td>\n",
       "      <td>One Choice Can Destroy You</td>\n",
       "      <td>...</td>\n",
       "      <td>Beatrice Prior must confront her inner demons ...</td>\n",
       "      <td>119</td>\n",
       "      <td>Adventure|Science Fiction|Thriller</td>\n",
       "      <td>Summit Entertainment|Mandeville Films|Red Wago...</td>\n",
       "      <td>3/18/15</td>\n",
       "      <td>2480</td>\n",
       "      <td>6.3</td>\n",
       "      <td>2015</td>\n",
       "      <td>101199955.5</td>\n",
       "      <td>2.716190e+08</td>\n",
       "    </tr>\n",
       "    <tr>\n",
       "      <th>3</th>\n",
       "      <td>140607</td>\n",
       "      <td>tt2488496</td>\n",
       "      <td>11.173104</td>\n",
       "      <td>200000000</td>\n",
       "      <td>2068178225</td>\n",
       "      <td>Star Wars: The Force Awakens</td>\n",
       "      <td>Harrison Ford|Mark Hamill|Carrie Fisher|Adam D...</td>\n",
       "      <td>http://www.starwars.com/films/star-wars-episod...</td>\n",
       "      <td>J.J. Abrams</td>\n",
       "      <td>Every generation has a story.</td>\n",
       "      <td>...</td>\n",
       "      <td>Thirty years after defeating the Galactic Empi...</td>\n",
       "      <td>136</td>\n",
       "      <td>Action|Adventure|Science Fiction|Fantasy</td>\n",
       "      <td>Lucasfilm|Truenorth Productions|Bad Robot</td>\n",
       "      <td>12/15/15</td>\n",
       "      <td>5292</td>\n",
       "      <td>7.5</td>\n",
       "      <td>2015</td>\n",
       "      <td>183999919.0</td>\n",
       "      <td>1.902723e+09</td>\n",
       "    </tr>\n",
       "    <tr>\n",
       "      <th>4</th>\n",
       "      <td>168259</td>\n",
       "      <td>tt2820852</td>\n",
       "      <td>9.335014</td>\n",
       "      <td>190000000</td>\n",
       "      <td>1506249360</td>\n",
       "      <td>Furious 7</td>\n",
       "      <td>Vin Diesel|Paul Walker|Jason Statham|Michelle ...</td>\n",
       "      <td>http://www.furious7.com/</td>\n",
       "      <td>James Wan</td>\n",
       "      <td>Vengeance Hits Home</td>\n",
       "      <td>...</td>\n",
       "      <td>Deckard Shaw seeks revenge against Dominic Tor...</td>\n",
       "      <td>137</td>\n",
       "      <td>Action|Crime|Thriller</td>\n",
       "      <td>Universal Pictures|Original Film|Media Rights ...</td>\n",
       "      <td>2004-01-15</td>\n",
       "      <td>2947</td>\n",
       "      <td>7.3</td>\n",
       "      <td>2015</td>\n",
       "      <td>174799923.1</td>\n",
       "      <td>1.385749e+09</td>\n",
       "    </tr>\n",
       "  </tbody>\n",
       "</table>\n",
       "<p>5 rows × 21 columns</p>\n",
       "</div>"
      ],
      "text/plain": [
       "       id    imdb_id  popularity     budget     revenue  \\\n",
       "0  135397  tt0369610   32.985763  150000000  1513528810   \n",
       "1   76341  tt1392190   28.419936  150000000   378436354   \n",
       "2  262500  tt2908446   13.112507  110000000   295238201   \n",
       "3  140607  tt2488496   11.173104  200000000  2068178225   \n",
       "4  168259  tt2820852    9.335014  190000000  1506249360   \n",
       "\n",
       "                 original_title  \\\n",
       "0                Jurassic World   \n",
       "1            Mad Max: Fury Road   \n",
       "2                     Insurgent   \n",
       "3  Star Wars: The Force Awakens   \n",
       "4                     Furious 7   \n",
       "\n",
       "                                                cast  \\\n",
       "0  Chris Pratt|Bryce Dallas Howard|Irrfan Khan|Vi...   \n",
       "1  Tom Hardy|Charlize Theron|Hugh Keays-Byrne|Nic...   \n",
       "2  Shailene Woodley|Theo James|Kate Winslet|Ansel...   \n",
       "3  Harrison Ford|Mark Hamill|Carrie Fisher|Adam D...   \n",
       "4  Vin Diesel|Paul Walker|Jason Statham|Michelle ...   \n",
       "\n",
       "                                            homepage          director  \\\n",
       "0                      http://www.jurassicworld.com/   Colin Trevorrow   \n",
       "1                        http://www.madmaxmovie.com/     George Miller   \n",
       "2     http://www.thedivergentseries.movie/#insurgent  Robert Schwentke   \n",
       "3  http://www.starwars.com/films/star-wars-episod...       J.J. Abrams   \n",
       "4                           http://www.furious7.com/         James Wan   \n",
       "\n",
       "                         tagline  ...  \\\n",
       "0              The park is open.  ...   \n",
       "1             What a Lovely Day.  ...   \n",
       "2     One Choice Can Destroy You  ...   \n",
       "3  Every generation has a story.  ...   \n",
       "4            Vengeance Hits Home  ...   \n",
       "\n",
       "                                            overview runtime  \\\n",
       "0  Twenty-two years after the events of Jurassic ...     124   \n",
       "1  An apocalyptic story set in the furthest reach...     120   \n",
       "2  Beatrice Prior must confront her inner demons ...     119   \n",
       "3  Thirty years after defeating the Galactic Empi...     136   \n",
       "4  Deckard Shaw seeks revenge against Dominic Tor...     137   \n",
       "\n",
       "                                      genres  \\\n",
       "0  Action|Adventure|Science Fiction|Thriller   \n",
       "1  Action|Adventure|Science Fiction|Thriller   \n",
       "2         Adventure|Science Fiction|Thriller   \n",
       "3   Action|Adventure|Science Fiction|Fantasy   \n",
       "4                      Action|Crime|Thriller   \n",
       "\n",
       "                                production_companies release_date vote_count  \\\n",
       "0  Universal Studios|Amblin Entertainment|Legenda...   2006-09-15       5562   \n",
       "1  Village Roadshow Pictures|Kennedy Miller Produ...      5/13/15       6185   \n",
       "2  Summit Entertainment|Mandeville Films|Red Wago...      3/18/15       2480   \n",
       "3          Lucasfilm|Truenorth Productions|Bad Robot     12/15/15       5292   \n",
       "4  Universal Pictures|Original Film|Media Rights ...   2004-01-15       2947   \n",
       "\n",
       "   vote_average  release_year   budget_adj   revenue_adj  \n",
       "0           6.5          2015  137999939.3  1.392446e+09  \n",
       "1           7.1          2015  137999939.3  3.481613e+08  \n",
       "2           6.3          2015  101199955.5  2.716190e+08  \n",
       "3           7.5          2015  183999919.0  1.902723e+09  \n",
       "4           7.3          2015  174799923.1  1.385749e+09  \n",
       "\n",
       "[5 rows x 21 columns]"
      ]
     },
     "execution_count": 2,
     "metadata": {},
     "output_type": "execute_result"
    }
   ],
   "source": [
    "# load dataset and confirm\n",
    "df = pd.read_csv('tmdb_movies.csv')\n",
    "df.head()"
   ]
  },
  {
   "cell_type": "markdown",
   "id": "74bf9a00",
   "metadata": {},
   "source": [
    "### | Assess the Data \n",
    "\n",
    "Assess the data to identify any problems with quality and structure"
   ]
  },
  {
   "cell_type": "code",
   "execution_count": 3,
   "id": "5f86ed73",
   "metadata": {},
   "outputs": [
    {
     "data": {
      "text/plain": [
       "(10866, 21)"
      ]
     },
     "execution_count": 3,
     "metadata": {},
     "output_type": "execute_result"
    }
   ],
   "source": [
    "# explore the shape of the dataset\n",
    "df.shape"
   ]
  },
  {
   "cell_type": "markdown",
   "id": "b7623cd9",
   "metadata": {},
   "source": [
    "The result shows us that this dataset has:\n",
    " - Total rows - 10866 \n",
    " - Total columns - 21"
   ]
  },
  {
   "cell_type": "code",
   "execution_count": 4,
   "id": "17030c4d",
   "metadata": {},
   "outputs": [
    {
     "name": "stdout",
     "output_type": "stream",
     "text": [
      "<class 'pandas.core.frame.DataFrame'>\n",
      "RangeIndex: 10866 entries, 0 to 10865\n",
      "Data columns (total 21 columns):\n",
      " #   Column                Non-Null Count  Dtype  \n",
      "---  ------                --------------  -----  \n",
      " 0   id                    10866 non-null  int64  \n",
      " 1   imdb_id               10856 non-null  object \n",
      " 2   popularity            10866 non-null  float64\n",
      " 3   budget                10866 non-null  int64  \n",
      " 4   revenue               10866 non-null  int64  \n",
      " 5   original_title        10866 non-null  object \n",
      " 6   cast                  10790 non-null  object \n",
      " 7   homepage              2936 non-null   object \n",
      " 8   director              10822 non-null  object \n",
      " 9   tagline               8042 non-null   object \n",
      " 10  keywords              9373 non-null   object \n",
      " 11  overview              10862 non-null  object \n",
      " 12  runtime               10866 non-null  int64  \n",
      " 13  genres                10843 non-null  object \n",
      " 14  production_companies  9836 non-null   object \n",
      " 15  release_date          10866 non-null  object \n",
      " 16  vote_count            10866 non-null  int64  \n",
      " 17  vote_average          10866 non-null  float64\n",
      " 18  release_year          10866 non-null  int64  \n",
      " 19  budget_adj            10866 non-null  float64\n",
      " 20  revenue_adj           10866 non-null  float64\n",
      "dtypes: float64(4), int64(6), object(11)\n",
      "memory usage: 1.7+ MB\n"
     ]
    }
   ],
   "source": [
    "# explore by showing a concise summary of the dataframe  \n",
    "df.info()"
   ]
  },
  {
   "cell_type": "markdown",
   "id": "df2640c0",
   "metadata": {},
   "source": [
    "The result above shows:\n",
    "    \n",
    "**Null rows in columns**\n",
    "\n",
    " - `imdb_id` has 10 null rows\n",
    " \n",
    " \n",
    " - `cast` of 76 rows are null\n",
    " \n",
    " \n",
    " - `homepage` has 7930 null rows\n",
    " \n",
    " \n",
    " - `director` of 44 rows are null \n",
    " \n",
    " \n",
    " - `tagline` has 2824 null rows\n",
    " \n",
    " \n",
    " - `keywords` has 1493 null rows\n",
    " \n",
    " \n",
    " - `Overview` has 4 null rows\n",
    " \n",
    " \n",
    " - `genres` has 23 null rows\n",
    " \n",
    " \n",
    " - `production_companies` has 1030 null rows\n",
    " \n",
    " \n",
    "  **Datatype**\n",
    " - Incorrect data type for `release_date` column. Data type shows as string"
   ]
  },
  {
   "cell_type": "code",
   "execution_count": 5,
   "id": "197b153f",
   "metadata": {},
   "outputs": [
    {
     "data": {
      "text/plain": [
       "id                         0\n",
       "imdb_id                   10\n",
       "popularity                 0\n",
       "budget                     0\n",
       "revenue                    0\n",
       "original_title             0\n",
       "cast                      76\n",
       "homepage                7930\n",
       "director                  44\n",
       "tagline                 2824\n",
       "keywords                1493\n",
       "overview                   4\n",
       "runtime                    0\n",
       "genres                    23\n",
       "production_companies    1030\n",
       "release_date               0\n",
       "vote_count                 0\n",
       "vote_average               0\n",
       "release_year               0\n",
       "budget_adj                 0\n",
       "revenue_adj                0\n",
       "dtype: int64"
      ]
     },
     "execution_count": 5,
     "metadata": {},
     "output_type": "execute_result"
    }
   ],
   "source": [
    "# check number of missing values in dataframe\n",
    "df.isnull().sum()"
   ]
  },
  {
   "cell_type": "code",
   "execution_count": 6,
   "id": "c3a4f560",
   "metadata": {},
   "outputs": [
    {
     "data": {
      "text/plain": [
       "1"
      ]
     },
     "execution_count": 6,
     "metadata": {},
     "output_type": "execute_result"
    }
   ],
   "source": [
    "# check for duplicates in dataset\n",
    "df.duplicated().sum()"
   ]
  },
  {
   "cell_type": "markdown",
   "id": "f5201326",
   "metadata": {},
   "source": [
    "**Duplicate rows** \n",
    " - there is only 1 duplicate row"
   ]
  },
  {
   "cell_type": "code",
   "execution_count": 7,
   "id": "d701a972",
   "metadata": {},
   "outputs": [
    {
     "data": {
      "text/html": [
       "<div>\n",
       "<style scoped>\n",
       "    .dataframe tbody tr th:only-of-type {\n",
       "        vertical-align: middle;\n",
       "    }\n",
       "\n",
       "    .dataframe tbody tr th {\n",
       "        vertical-align: top;\n",
       "    }\n",
       "\n",
       "    .dataframe thead th {\n",
       "        text-align: right;\n",
       "    }\n",
       "</style>\n",
       "<table border=\"1\" class=\"dataframe\">\n",
       "  <thead>\n",
       "    <tr style=\"text-align: right;\">\n",
       "      <th></th>\n",
       "      <th>id</th>\n",
       "      <th>popularity</th>\n",
       "      <th>budget</th>\n",
       "      <th>revenue</th>\n",
       "      <th>runtime</th>\n",
       "      <th>vote_count</th>\n",
       "      <th>vote_average</th>\n",
       "      <th>release_year</th>\n",
       "      <th>budget_adj</th>\n",
       "      <th>revenue_adj</th>\n",
       "    </tr>\n",
       "  </thead>\n",
       "  <tbody>\n",
       "    <tr>\n",
       "      <th>count</th>\n",
       "      <td>10866.000000</td>\n",
       "      <td>10866.000000</td>\n",
       "      <td>1.086600e+04</td>\n",
       "      <td>1.086600e+04</td>\n",
       "      <td>10866.000000</td>\n",
       "      <td>10866.000000</td>\n",
       "      <td>10866.000000</td>\n",
       "      <td>10866.000000</td>\n",
       "      <td>1.086600e+04</td>\n",
       "      <td>1.086600e+04</td>\n",
       "    </tr>\n",
       "    <tr>\n",
       "      <th>mean</th>\n",
       "      <td>66064.177434</td>\n",
       "      <td>0.646441</td>\n",
       "      <td>1.462570e+07</td>\n",
       "      <td>3.982332e+07</td>\n",
       "      <td>102.070863</td>\n",
       "      <td>217.389748</td>\n",
       "      <td>5.974922</td>\n",
       "      <td>2001.322658</td>\n",
       "      <td>1.755104e+07</td>\n",
       "      <td>5.136436e+07</td>\n",
       "    </tr>\n",
       "    <tr>\n",
       "      <th>std</th>\n",
       "      <td>92130.136561</td>\n",
       "      <td>1.000185</td>\n",
       "      <td>3.091321e+07</td>\n",
       "      <td>1.170035e+08</td>\n",
       "      <td>31.381405</td>\n",
       "      <td>575.619058</td>\n",
       "      <td>0.935142</td>\n",
       "      <td>12.812941</td>\n",
       "      <td>3.430616e+07</td>\n",
       "      <td>1.446325e+08</td>\n",
       "    </tr>\n",
       "    <tr>\n",
       "      <th>min</th>\n",
       "      <td>5.000000</td>\n",
       "      <td>0.000065</td>\n",
       "      <td>0.000000e+00</td>\n",
       "      <td>0.000000e+00</td>\n",
       "      <td>0.000000</td>\n",
       "      <td>10.000000</td>\n",
       "      <td>1.500000</td>\n",
       "      <td>1960.000000</td>\n",
       "      <td>0.000000e+00</td>\n",
       "      <td>0.000000e+00</td>\n",
       "    </tr>\n",
       "    <tr>\n",
       "      <th>25%</th>\n",
       "      <td>10596.250000</td>\n",
       "      <td>0.207583</td>\n",
       "      <td>0.000000e+00</td>\n",
       "      <td>0.000000e+00</td>\n",
       "      <td>90.000000</td>\n",
       "      <td>17.000000</td>\n",
       "      <td>5.400000</td>\n",
       "      <td>1995.000000</td>\n",
       "      <td>0.000000e+00</td>\n",
       "      <td>0.000000e+00</td>\n",
       "    </tr>\n",
       "    <tr>\n",
       "      <th>50%</th>\n",
       "      <td>20669.000000</td>\n",
       "      <td>0.383856</td>\n",
       "      <td>0.000000e+00</td>\n",
       "      <td>0.000000e+00</td>\n",
       "      <td>99.000000</td>\n",
       "      <td>38.000000</td>\n",
       "      <td>6.000000</td>\n",
       "      <td>2006.000000</td>\n",
       "      <td>0.000000e+00</td>\n",
       "      <td>0.000000e+00</td>\n",
       "    </tr>\n",
       "    <tr>\n",
       "      <th>75%</th>\n",
       "      <td>75610.000000</td>\n",
       "      <td>0.713817</td>\n",
       "      <td>1.500000e+07</td>\n",
       "      <td>2.400000e+07</td>\n",
       "      <td>111.000000</td>\n",
       "      <td>145.750000</td>\n",
       "      <td>6.600000</td>\n",
       "      <td>2011.000000</td>\n",
       "      <td>2.085325e+07</td>\n",
       "      <td>3.369710e+07</td>\n",
       "    </tr>\n",
       "    <tr>\n",
       "      <th>max</th>\n",
       "      <td>417859.000000</td>\n",
       "      <td>32.985763</td>\n",
       "      <td>4.250000e+08</td>\n",
       "      <td>2.781506e+09</td>\n",
       "      <td>900.000000</td>\n",
       "      <td>9767.000000</td>\n",
       "      <td>9.200000</td>\n",
       "      <td>2015.000000</td>\n",
       "      <td>4.250000e+08</td>\n",
       "      <td>2.827124e+09</td>\n",
       "    </tr>\n",
       "  </tbody>\n",
       "</table>\n",
       "</div>"
      ],
      "text/plain": [
       "                  id    popularity        budget       revenue       runtime  \\\n",
       "count   10866.000000  10866.000000  1.086600e+04  1.086600e+04  10866.000000   \n",
       "mean    66064.177434      0.646441  1.462570e+07  3.982332e+07    102.070863   \n",
       "std     92130.136561      1.000185  3.091321e+07  1.170035e+08     31.381405   \n",
       "min         5.000000      0.000065  0.000000e+00  0.000000e+00      0.000000   \n",
       "25%     10596.250000      0.207583  0.000000e+00  0.000000e+00     90.000000   \n",
       "50%     20669.000000      0.383856  0.000000e+00  0.000000e+00     99.000000   \n",
       "75%     75610.000000      0.713817  1.500000e+07  2.400000e+07    111.000000   \n",
       "max    417859.000000     32.985763  4.250000e+08  2.781506e+09    900.000000   \n",
       "\n",
       "         vote_count  vote_average  release_year    budget_adj   revenue_adj  \n",
       "count  10866.000000  10866.000000  10866.000000  1.086600e+04  1.086600e+04  \n",
       "mean     217.389748      5.974922   2001.322658  1.755104e+07  5.136436e+07  \n",
       "std      575.619058      0.935142     12.812941  3.430616e+07  1.446325e+08  \n",
       "min       10.000000      1.500000   1960.000000  0.000000e+00  0.000000e+00  \n",
       "25%       17.000000      5.400000   1995.000000  0.000000e+00  0.000000e+00  \n",
       "50%       38.000000      6.000000   2006.000000  0.000000e+00  0.000000e+00  \n",
       "75%      145.750000      6.600000   2011.000000  2.085325e+07  3.369710e+07  \n",
       "max     9767.000000      9.200000   2015.000000  4.250000e+08  2.827124e+09  "
      ]
     },
     "execution_count": 7,
     "metadata": {},
     "output_type": "execute_result"
    }
   ],
   "source": [
    "# summary statistics of the numerical columns in the dataset\n",
    "df.describe()"
   ]
  },
  {
   "cell_type": "code",
   "execution_count": 8,
   "id": "fe657a03",
   "metadata": {},
   "outputs": [
    {
     "data": {
      "text/plain": [
       "(5696, 6016, 31)"
      ]
     },
     "execution_count": 8,
     "metadata": {},
     "output_type": "execute_result"
    }
   ],
   "source": [
    "# confirm count of minimum value as in budget, revenue, runtime, adj_budget, and adj_revenue columns\n",
    "\n",
    "df.query('budget == 0').shape[0], df.query('revenue == 0').shape[0],df.query('runtime == 0').shape[0]"
   ]
  },
  {
   "cell_type": "markdown",
   "id": "d4524d01",
   "metadata": {},
   "source": [
    " **Summary Statistics**\n",
    "\n",
    "The summary statistics above show unusual minimum values for budget(adj_budget) , revenue(adj_revenue) , and runtime as Zeros. This was confirmed indicating the count of zero's in those columns:\n",
    "- `budget`|`adj_budget` have total count of zeros as 5696\n",
    "\n",
    "\n",
    "- `revenue`|`adj_revenue` has total count of zero as 6016\n",
    "\n",
    "\n",
    "- `runtime` has total count of zeros as 31\n",
    "\n",
    "Naturally, a mimumum buget, revenue and runtime of zero is unrealistic. There seem to be a lot of missing budgets, of which TMDB states could likely have been from small budget films. More information provided in the [link](https://www.kaggle.com/datasets/tmdb/tmdb-movie-metadata)."
   ]
  },
  {
   "cell_type": "markdown",
   "id": "5b2f9c47",
   "metadata": {},
   "source": [
    "### | Clean the Data\n",
    "This involves modifying, replacing, or removing data in our dataframe to ensure quality"
   ]
  },
  {
   "cell_type": "markdown",
   "id": "b8b7550a",
   "metadata": {},
   "source": [
    "_For this project, some columns in the dataset are irrelevant since they add no value during analysis and will be removed._\n",
    " - `imdb_id` has 10 null rows and is irrelevant for analysis\n",
    " - `homepage` has 7930 null rows, which is almost half of the total rows, and is irrelevant for analysis \n",
    " - `tagline`, `overview`, and `keywords` are unique for every movie and irrelevant for project\n",
    "  \n",
    "----  \n",
    " I will also be: \n",
    " - dropping the duplicate row  \n",
    " \n",
    " - converting datatype of the column `release_date` from string to datetime \n",
    "----   \n",
    "In addition, there are numerous rows with **zero** in the `budget` and `revenue` column, and although it will be reasonable to drop those rows, I will leave the rows with the **zeros**. \n",
    "I decided to leave the rows to preserve the quality of the entire dataset, because dropping those rows will affect other columns with data.\n",
    "\n",
    "Likewise, I will not be dropping the NaN values in the `genres` column of the dataframe for the same reasons above. \n",
    "\n",
    "----\n",
    "__However, during my analysis, I will be selecting only the rows and columns that are relevant to draw valuable insights__ \n",
    "\n"
   ]
  },
  {
   "cell_type": "markdown",
   "id": "e7f589c8",
   "metadata": {},
   "source": [
    "Hence, drop irrelevant columns"
   ]
  },
  {
   "cell_type": "code",
   "execution_count": 9,
   "id": "7c090d6d",
   "metadata": {},
   "outputs": [],
   "source": [
    "# drop columns stated above\n",
    "df.drop(['imdb_id', 'homepage','tagline', 'overview', 'keywords'], axis=1, inplace=True)"
   ]
  },
  {
   "cell_type": "code",
   "execution_count": 10,
   "id": "3b286e5b",
   "metadata": {},
   "outputs": [
    {
     "data": {
      "text/html": [
       "<div>\n",
       "<style scoped>\n",
       "    .dataframe tbody tr th:only-of-type {\n",
       "        vertical-align: middle;\n",
       "    }\n",
       "\n",
       "    .dataframe tbody tr th {\n",
       "        vertical-align: top;\n",
       "    }\n",
       "\n",
       "    .dataframe thead th {\n",
       "        text-align: right;\n",
       "    }\n",
       "</style>\n",
       "<table border=\"1\" class=\"dataframe\">\n",
       "  <thead>\n",
       "    <tr style=\"text-align: right;\">\n",
       "      <th></th>\n",
       "      <th>id</th>\n",
       "      <th>popularity</th>\n",
       "      <th>budget</th>\n",
       "      <th>revenue</th>\n",
       "      <th>original_title</th>\n",
       "      <th>cast</th>\n",
       "      <th>director</th>\n",
       "      <th>runtime</th>\n",
       "      <th>genres</th>\n",
       "      <th>production_companies</th>\n",
       "      <th>release_date</th>\n",
       "      <th>vote_count</th>\n",
       "      <th>vote_average</th>\n",
       "      <th>release_year</th>\n",
       "      <th>budget_adj</th>\n",
       "      <th>revenue_adj</th>\n",
       "    </tr>\n",
       "  </thead>\n",
       "  <tbody>\n",
       "  </tbody>\n",
       "</table>\n",
       "</div>"
      ],
      "text/plain": [
       "Empty DataFrame\n",
       "Columns: [id, popularity, budget, revenue, original_title, cast, director, runtime, genres, production_companies, release_date, vote_count, vote_average, release_year, budget_adj, revenue_adj]\n",
       "Index: []"
      ]
     },
     "execution_count": 10,
     "metadata": {},
     "output_type": "execute_result"
    }
   ],
   "source": [
    "# confirm dropped columns\n",
    "df.head(0)"
   ]
  },
  {
   "cell_type": "markdown",
   "id": "d88ef57f",
   "metadata": {},
   "source": [
    "A duplicate was spotted when the data was assesed and that duplicate row has to be removed"
   ]
  },
  {
   "cell_type": "code",
   "execution_count": 11,
   "id": "183c6e11",
   "metadata": {},
   "outputs": [
    {
     "data": {
      "text/html": [
       "<div>\n",
       "<style scoped>\n",
       "    .dataframe tbody tr th:only-of-type {\n",
       "        vertical-align: middle;\n",
       "    }\n",
       "\n",
       "    .dataframe tbody tr th {\n",
       "        vertical-align: top;\n",
       "    }\n",
       "\n",
       "    .dataframe thead th {\n",
       "        text-align: right;\n",
       "    }\n",
       "</style>\n",
       "<table border=\"1\" class=\"dataframe\">\n",
       "  <thead>\n",
       "    <tr style=\"text-align: right;\">\n",
       "      <th></th>\n",
       "      <th>id</th>\n",
       "      <th>popularity</th>\n",
       "      <th>budget</th>\n",
       "      <th>revenue</th>\n",
       "      <th>original_title</th>\n",
       "      <th>cast</th>\n",
       "      <th>director</th>\n",
       "      <th>runtime</th>\n",
       "      <th>genres</th>\n",
       "      <th>production_companies</th>\n",
       "      <th>release_date</th>\n",
       "      <th>vote_count</th>\n",
       "      <th>vote_average</th>\n",
       "      <th>release_year</th>\n",
       "      <th>budget_adj</th>\n",
       "      <th>revenue_adj</th>\n",
       "    </tr>\n",
       "  </thead>\n",
       "  <tbody>\n",
       "    <tr>\n",
       "      <th>2090</th>\n",
       "      <td>42194</td>\n",
       "      <td>0.59643</td>\n",
       "      <td>30000000</td>\n",
       "      <td>967000</td>\n",
       "      <td>TEKKEN</td>\n",
       "      <td>Jon Foo|Kelly Overton|Cary-Hiroyuki Tagawa|Ian...</td>\n",
       "      <td>Dwight H. Little</td>\n",
       "      <td>92</td>\n",
       "      <td>Crime|Drama|Action|Thriller|Science Fiction</td>\n",
       "      <td>Namco|Light Song Films</td>\n",
       "      <td>3/20/10</td>\n",
       "      <td>110</td>\n",
       "      <td>5.0</td>\n",
       "      <td>2010</td>\n",
       "      <td>30000000.0</td>\n",
       "      <td>967000.0</td>\n",
       "    </tr>\n",
       "  </tbody>\n",
       "</table>\n",
       "</div>"
      ],
      "text/plain": [
       "         id  popularity    budget  revenue original_title  \\\n",
       "2090  42194     0.59643  30000000   967000         TEKKEN   \n",
       "\n",
       "                                                   cast          director  \\\n",
       "2090  Jon Foo|Kelly Overton|Cary-Hiroyuki Tagawa|Ian...  Dwight H. Little   \n",
       "\n",
       "      runtime                                       genres  \\\n",
       "2090       92  Crime|Drama|Action|Thriller|Science Fiction   \n",
       "\n",
       "        production_companies release_date  vote_count  vote_average  \\\n",
       "2090  Namco|Light Song Films      3/20/10         110           5.0   \n",
       "\n",
       "      release_year  budget_adj  revenue_adj  \n",
       "2090          2010  30000000.0     967000.0  "
      ]
     },
     "execution_count": 11,
     "metadata": {},
     "output_type": "execute_result"
    }
   ],
   "source": [
    "# view the duplicate\n",
    "df[df.duplicated()]"
   ]
  },
  {
   "cell_type": "code",
   "execution_count": 12,
   "id": "418e0885",
   "metadata": {},
   "outputs": [],
   "source": [
    "# delete the duplicate \n",
    "df.drop_duplicates(inplace=True)"
   ]
  },
  {
   "cell_type": "code",
   "execution_count": 13,
   "id": "95b4c67a",
   "metadata": {},
   "outputs": [
    {
     "data": {
      "text/plain": [
       "0"
      ]
     },
     "execution_count": 13,
     "metadata": {},
     "output_type": "execute_result"
    }
   ],
   "source": [
    "# confirm duplicate has been deleted\n",
    "df.duplicated().sum()"
   ]
  },
  {
   "cell_type": "markdown",
   "id": "2be9caed",
   "metadata": {},
   "source": [
    "The datatype of the column `release_date` has to be converted from string to datetime"
   ]
  },
  {
   "cell_type": "code",
   "execution_count": 14,
   "id": "f0b2b204",
   "metadata": {},
   "outputs": [],
   "source": [
    "# convert from string to datetime\n",
    "df['release_date'] = pd.to_datetime(df['release_date'])"
   ]
  },
  {
   "cell_type": "code",
   "execution_count": 15,
   "id": "4f756472",
   "metadata": {},
   "outputs": [
    {
     "name": "stdout",
     "output_type": "stream",
     "text": [
      "<class 'pandas.core.frame.DataFrame'>\n",
      "Int64Index: 10865 entries, 0 to 10865\n",
      "Data columns (total 16 columns):\n",
      " #   Column                Non-Null Count  Dtype         \n",
      "---  ------                --------------  -----         \n",
      " 0   id                    10865 non-null  int64         \n",
      " 1   popularity            10865 non-null  float64       \n",
      " 2   budget                10865 non-null  int64         \n",
      " 3   revenue               10865 non-null  int64         \n",
      " 4   original_title        10865 non-null  object        \n",
      " 5   cast                  10789 non-null  object        \n",
      " 6   director              10821 non-null  object        \n",
      " 7   runtime               10865 non-null  int64         \n",
      " 8   genres                10842 non-null  object        \n",
      " 9   production_companies  9835 non-null   object        \n",
      " 10  release_date          10865 non-null  datetime64[ns]\n",
      " 11  vote_count            10865 non-null  int64         \n",
      " 12  vote_average          10865 non-null  float64       \n",
      " 13  release_year          10865 non-null  int64         \n",
      " 14  budget_adj            10865 non-null  float64       \n",
      " 15  revenue_adj           10865 non-null  float64       \n",
      "dtypes: datetime64[ns](1), float64(4), int64(6), object(5)\n",
      "memory usage: 1.4+ MB\n"
     ]
    }
   ],
   "source": [
    "# confirm all changes to dataset\n",
    "df.info()"
   ]
  },
  {
   "cell_type": "markdown",
   "id": "727998ef",
   "metadata": {},
   "source": [
    "<a id='eda'></a>\n",
    "## Exploratory Data Analysis (EDA)\n",
    "\n",
    "EDA involves finding patterns in the data, visualizing relationships in the dataset, and building intiution about the data.\n",
    "\n",
    "Hence, EDA will be used to address the questions asked in the introductory section."
   ]
  },
  {
   "cell_type": "markdown",
   "id": "66bac8fc",
   "metadata": {},
   "source": [
    "## Q1. What kinds of properties are associated with movies that have high revenues?\n",
    "\n",
    "In this analysis, I decide to use the `revenue_adj` and `budget_adj` columns because they have been adjusted in terms of 2010 dollars to account for inflation over time, and this will helps to stabilize the variance of seasonal flunctuations."
   ]
  },
  {
   "cell_type": "code",
   "execution_count": 16,
   "id": "9c6ccd4d",
   "metadata": {},
   "outputs": [
    {
     "data": {
      "text/plain": [
       "6016"
      ]
     },
     "execution_count": 16,
     "metadata": {},
     "output_type": "execute_result"
    }
   ],
   "source": [
    "# view to the total number of rows with zeros in the revenue_adj column\n",
    "df.query('revenue_adj == 0')['revenue_adj'].count()"
   ]
  },
  {
   "cell_type": "markdown",
   "id": "2007d94d",
   "metadata": {},
   "source": [
    "From the result above, about 55% of the rows in the `revenue_adj` column are zeros. I have decided not to include the rows with zeros because correlation assumes that all the observations are independent of each other and having too many zeros might affect the analysis.\n",
    "Hence, for this analysis, I will be selecting only rows in the `revenue_adj` column without a zero value."
   ]
  },
  {
   "cell_type": "code",
   "execution_count": 17,
   "id": "895db5b7",
   "metadata": {},
   "outputs": [],
   "source": [
    "# create new dataframe and select only rows without zero and reset index (index starts from 0)\n",
    "df1 = df.query('revenue_adj != 0').reset_index(drop=True)"
   ]
  },
  {
   "cell_type": "code",
   "execution_count": 18,
   "id": "e2b36c18",
   "metadata": {},
   "outputs": [
    {
     "data": {
      "text/plain": [
       "(4849, 0)"
      ]
     },
     "execution_count": 18,
     "metadata": {},
     "output_type": "execute_result"
    }
   ],
   "source": [
    "# confirm no of rows & total number of rows with zeros in new dataframe\n",
    "df1.shape[0]   ,  df1.query('revenue_adj == 0').revenue_adj.count()"
   ]
  },
  {
   "cell_type": "markdown",
   "id": "115f984d",
   "metadata": {},
   "source": [
    "From the result above, we can see that the rows with zero have been exempted from the analysis and the total number of rows are now 4849"
   ]
  },
  {
   "cell_type": "code",
   "execution_count": 19,
   "id": "01aa61dc",
   "metadata": {},
   "outputs": [
    {
     "data": {
      "image/png": "[encoded data removed]",
      "text/plain": [
       "<Figure size 432x288 with 1 Axes>"
      ]
     },
     "metadata": {},
     "output_type": "display_data"
    }
   ],
   "source": [
    "# view histogram to view distribution of revenue\n",
    "df1.revenue_adj.hist();\n"
   ]
  },
  {
   "cell_type": "markdown",
   "id": "c5b22d4d",
   "metadata": {},
   "source": [
    "The histogram above shows that the data is positively skewed, with majority of movies having revneue below 300 million\n",
    "Using the adjusted revenue, we can account for the change in revenue over the years."
   ]
  },
  {
   "cell_type": "code",
   "execution_count": 20,
   "id": "d8e1c9fb",
   "metadata": {},
   "outputs": [
    {
     "data": {
      "text/plain": [
       "[<matplotlib.lines.Line2D at 0x1fec9db5880>]"
      ]
     },
     "metadata": {},
     "output_type": "display_data"
    },
    {
     "data": {
      "image/png": "[encoded data removed]",
      "text/plain": [
       "<Figure size 576x576 with 1 Axes>"
      ]
     },
     "metadata": {},
     "output_type": "display_data"
    }
   ],
   "source": [
    "# Plot to show how the adjusted revenue has changed over years\n",
    "\n",
    "revenue_change = df1.groupby('release_year').revenue_adj.mean()\n",
    "\n",
    "plt.figure(figsize=(8,8))\n",
    "display(plt.plot(revenue_change))\n",
    "\n",
    "plt.title('Yearly Change in Revenue (adjusted for inflation)', fontsize=13)\n",
    "plt.ylabel('Revenue', fontsize=13)\n",
    "plt.xlabel('Year', fontsize=13)\n",
    "\n",
    "plt.show()"
   ]
  },
  {
   "cell_type": "markdown",
   "id": "a1ab5cd7",
   "metadata": {},
   "source": [
    "The line chart above, there was a abrupt increase in revneue for movies in the mid 60's attainging a record high in revenue from 1960 to 2015. However, after the all time high in revenue in the 60's, there was a continuous decline in revenue with the mid 80's having the lowest revenues for movies. \n",
    "\n",
    "To identify the association of properties with high revenue, we would have   the Analysis was also completed below to identify the correlation between several properties and adjusted revenue"
   ]
  },
  {
   "cell_type": "code",
   "execution_count": 21,
   "id": "38dbfc04",
   "metadata": {},
   "outputs": [
    {
     "data": {
      "text/html": [
       "<div>\n",
       "<style scoped>\n",
       "    .dataframe tbody tr th:only-of-type {\n",
       "        vertical-align: middle;\n",
       "    }\n",
       "\n",
       "    .dataframe tbody tr th {\n",
       "        vertical-align: top;\n",
       "    }\n",
       "\n",
       "    .dataframe thead th {\n",
       "        text-align: right;\n",
       "    }\n",
       "</style>\n",
       "<table border=\"1\" class=\"dataframe\">\n",
       "  <thead>\n",
       "    <tr style=\"text-align: right;\">\n",
       "      <th></th>\n",
       "      <th>id</th>\n",
       "      <th>popularity</th>\n",
       "      <th>budget</th>\n",
       "      <th>revenue</th>\n",
       "      <th>runtime</th>\n",
       "      <th>vote_count</th>\n",
       "      <th>vote_average</th>\n",
       "      <th>release_year</th>\n",
       "      <th>budget_adj</th>\n",
       "      <th>revenue_adj</th>\n",
       "    </tr>\n",
       "  </thead>\n",
       "  <tbody>\n",
       "    <tr>\n",
       "      <th>count</th>\n",
       "      <td>4849.000000</td>\n",
       "      <td>4849.000000</td>\n",
       "      <td>4.849000e+03</td>\n",
       "      <td>4.849000e+03</td>\n",
       "      <td>4849.000000</td>\n",
       "      <td>4849.000000</td>\n",
       "      <td>4849.000000</td>\n",
       "      <td>4849.000000</td>\n",
       "      <td>4.849000e+03</td>\n",
       "      <td>4.849000e+03</td>\n",
       "    </tr>\n",
       "    <tr>\n",
       "      <th>mean</th>\n",
       "      <td>44575.491648</td>\n",
       "      <td>1.045202</td>\n",
       "      <td>2.956961e+07</td>\n",
       "      <td>8.923886e+07</td>\n",
       "      <td>107.968035</td>\n",
       "      <td>436.283151</td>\n",
       "      <td>6.149000</td>\n",
       "      <td>2000.919777</td>\n",
       "      <td>3.516208e+07</td>\n",
       "      <td>1.151009e+08</td>\n",
       "    </tr>\n",
       "    <tr>\n",
       "      <th>std</th>\n",
       "      <td>72368.860461</td>\n",
       "      <td>1.356752</td>\n",
       "      <td>4.051761e+07</td>\n",
       "      <td>1.620801e+08</td>\n",
       "      <td>21.113779</td>\n",
       "      <td>806.485754</td>\n",
       "      <td>0.798707</td>\n",
       "      <td>11.569650</td>\n",
       "      <td>4.376117e+07</td>\n",
       "      <td>1.988557e+08</td>\n",
       "    </tr>\n",
       "    <tr>\n",
       "      <th>min</th>\n",
       "      <td>5.000000</td>\n",
       "      <td>0.001117</td>\n",
       "      <td>0.000000e+00</td>\n",
       "      <td>2.000000e+00</td>\n",
       "      <td>15.000000</td>\n",
       "      <td>10.000000</td>\n",
       "      <td>2.100000</td>\n",
       "      <td>1960.000000</td>\n",
       "      <td>0.000000e+00</td>\n",
       "      <td>2.370705e+00</td>\n",
       "    </tr>\n",
       "    <tr>\n",
       "      <th>25%</th>\n",
       "      <td>8285.000000</td>\n",
       "      <td>0.387740</td>\n",
       "      <td>1.700000e+06</td>\n",
       "      <td>7.732325e+06</td>\n",
       "      <td>95.000000</td>\n",
       "      <td>46.000000</td>\n",
       "      <td>5.600000</td>\n",
       "      <td>1994.000000</td>\n",
       "      <td>2.329409e+06</td>\n",
       "      <td>1.046585e+07</td>\n",
       "    </tr>\n",
       "    <tr>\n",
       "      <th>50%</th>\n",
       "      <td>12154.000000</td>\n",
       "      <td>0.680581</td>\n",
       "      <td>1.500000e+07</td>\n",
       "      <td>3.185308e+07</td>\n",
       "      <td>104.000000</td>\n",
       "      <td>147.000000</td>\n",
       "      <td>6.200000</td>\n",
       "      <td>2004.000000</td>\n",
       "      <td>2.032801e+07</td>\n",
       "      <td>4.395666e+07</td>\n",
       "    </tr>\n",
       "    <tr>\n",
       "      <th>75%</th>\n",
       "      <td>43959.000000</td>\n",
       "      <td>1.210502</td>\n",
       "      <td>4.000000e+07</td>\n",
       "      <td>9.996575e+07</td>\n",
       "      <td>117.000000</td>\n",
       "      <td>435.000000</td>\n",
       "      <td>6.700000</td>\n",
       "      <td>2010.000000</td>\n",
       "      <td>4.973516e+07</td>\n",
       "      <td>1.316482e+08</td>\n",
       "    </tr>\n",
       "    <tr>\n",
       "      <th>max</th>\n",
       "      <td>417859.000000</td>\n",
       "      <td>32.985763</td>\n",
       "      <td>4.250000e+08</td>\n",
       "      <td>2.781506e+09</td>\n",
       "      <td>705.000000</td>\n",
       "      <td>9767.000000</td>\n",
       "      <td>8.400000</td>\n",
       "      <td>2015.000000</td>\n",
       "      <td>4.250000e+08</td>\n",
       "      <td>2.827124e+09</td>\n",
       "    </tr>\n",
       "  </tbody>\n",
       "</table>\n",
       "</div>"
      ],
      "text/plain": [
       "                  id   popularity        budget       revenue      runtime  \\\n",
       "count    4849.000000  4849.000000  4.849000e+03  4.849000e+03  4849.000000   \n",
       "mean    44575.491648     1.045202  2.956961e+07  8.923886e+07   107.968035   \n",
       "std     72368.860461     1.356752  4.051761e+07  1.620801e+08    21.113779   \n",
       "min         5.000000     0.001117  0.000000e+00  2.000000e+00    15.000000   \n",
       "25%      8285.000000     0.387740  1.700000e+06  7.732325e+06    95.000000   \n",
       "50%     12154.000000     0.680581  1.500000e+07  3.185308e+07   104.000000   \n",
       "75%     43959.000000     1.210502  4.000000e+07  9.996575e+07   117.000000   \n",
       "max    417859.000000    32.985763  4.250000e+08  2.781506e+09   705.000000   \n",
       "\n",
       "        vote_count  vote_average  release_year    budget_adj   revenue_adj  \n",
       "count  4849.000000   4849.000000   4849.000000  4.849000e+03  4.849000e+03  \n",
       "mean    436.283151      6.149000   2000.919777  3.516208e+07  1.151009e+08  \n",
       "std     806.485754      0.798707     11.569650  4.376117e+07  1.988557e+08  \n",
       "min      10.000000      2.100000   1960.000000  0.000000e+00  2.370705e+00  \n",
       "25%      46.000000      5.600000   1994.000000  2.329409e+06  1.046585e+07  \n",
       "50%     147.000000      6.200000   2004.000000  2.032801e+07  4.395666e+07  \n",
       "75%     435.000000      6.700000   2010.000000  4.973516e+07  1.316482e+08  \n",
       "max    9767.000000      8.400000   2015.000000  4.250000e+08  2.827124e+09  "
      ]
     },
     "execution_count": 21,
     "metadata": {},
     "output_type": "execute_result"
    }
   ],
   "source": [
    "# statistical summary of new dataframe (d1)\n",
    "df1.describe()"
   ]
  },
  {
   "cell_type": "markdown",
   "id": "898fe67e",
   "metadata": {},
   "source": [
    "In order to identify the association between properties and the movies that have high revenues, we need to establish a benchmark to use as a reference point for movies with high revenue.\n",
    "\n",
    "From the statistical summary above, about 75% of the movies generated revenue below a value of about 131.5 million. \n",
    "Hence, the 75% percentile can be used as the benchmark, and movies with revenue above that benchmark an be regarded as high revenue movies."
   ]
  },
  {
   "cell_type": "code",
   "execution_count": 22,
   "id": "ef77ba16",
   "metadata": {},
   "outputs": [
    {
     "data": {
      "text/plain": [
       "(1212, 16)"
      ]
     },
     "execution_count": 22,
     "metadata": {},
     "output_type": "execute_result"
    }
   ],
   "source": [
    "# select movies with high revenue\n",
    "high_rev_gauge = df1.revenue_adj.quantile(.75)\n",
    "high_rev = df1[df1.revenue_adj > high_rev_gauge]\n",
    "\n",
    "high_rev.shape"
   ]
  },
  {
   "cell_type": "markdown",
   "id": "3074d484",
   "metadata": {},
   "source": [
    "We can now show the association between some properties and high revenue movies.\n",
    "\n",
    "First, we will look at the correlation between popularity and high revenue movies"
   ]
  },
  {
   "cell_type": "code",
   "execution_count": 23,
   "id": "4765aa87",
   "metadata": {},
   "outputs": [
    {
     "name": "stdout",
     "output_type": "stream",
     "text": [
      "Correlation Between Revenue and Popularity :  0.6090853022669516\n"
     ]
    },
    {
     "data": {
      "image/png": "[encoded data removed]",
      "text/plain": [
       "<Figure size 576x576 with 1 Axes>"
      ]
     },
     "metadata": {},
     "output_type": "display_data"
    }
   ],
   "source": [
    "# scatter plot showing the correlation between popularity and high revenue movies\n",
    "high_rev.plot(x='popularity', y='revenue_adj', kind='scatter', figsize=(8,8))\n",
    "\n",
    "plt.title(\"Correlation between Revenue and Popularity of Movies\",fontsize=15)\n",
    "plt.xlabel('Popularity',fontsize=15)\n",
    "plt.ylabel(\"Revenue\",fontsize= 15);\n",
    "\n",
    "sns.set_style('darkgrid')\n",
    "\n",
    "#correlation between the variables\n",
    "df_corr = df.corr()\n",
    "print(\"Correlation Between Revenue and Popularity : \",df_corr.loc['popularity','revenue_adj'])"
   ]
  },
  {
   "cell_type": "markdown",
   "id": "db1ec1ca",
   "metadata": {},
   "source": [
    "We will also look at the association between the Average Rating and High Revenue of those Movies"
   ]
  },
  {
   "cell_type": "code",
   "execution_count": 24,
   "id": "ce2f341f",
   "metadata": {},
   "outputs": [
    {
     "name": "stdout",
     "output_type": "stream",
     "text": [
      "Correlation between Revenue and Average Ratings :  0.19306239300498537\n"
     ]
    },
    {
     "data": {
      "image/png": "[encoded data removed]",
      "text/plain": [
       "<Figure size 576x576 with 1 Axes>"
      ]
     },
     "metadata": {},
     "output_type": "display_data"
    }
   ],
   "source": [
    "# scatter plot showing the correlation between popularity and high revenue movies\n",
    "\n",
    "high_rev.plot(x='vote_average', y='revenue_adj', kind='scatter', figsize=(8,8))\n",
    "\n",
    "plt.title(\"Correlation between Revenue and Average Ratings of Movies\",fontsize=15)\n",
    "plt.xlabel('Average Ratings',fontsize=15)\n",
    "plt.ylabel(\"Revenue\",fontsize= 15);\n",
    "\n",
    "\n",
    "# correlation between the variables\n",
    "df_corr = df.corr()\n",
    "print(\"Correlation between Revenue and Average Ratings : \",df_corr.loc['vote_average','revenue_adj'])"
   ]
  },
  {
   "cell_type": "markdown",
   "id": "7ed1286d",
   "metadata": {},
   "source": [
    "## Q2. Is there an association between a Movie Success and Popularity?\n",
    "\n",
    "In the movie industry today, a monetarily successful movie comes from the return on investment (ROI). However, a movie with a high budget does not necessarily make it more successful, Expensive, unsuccessful movies do exist. \n",
    " \n",
    "Hence, in this analysis, the success of a movie will be defined by its `Profit`. \n",
    " \n",
    "`Profit` will be calculated by subtracting `revenue_adj` from the `budget_adj`.\n",
    "\n",
    "Hence, for this analysis, I will be using the `df1` dataframe which houses only rows in the `revenue_adj` and `budget_adj` column without a zero value.\n",
    "\n",
    "First, since the `budget_adj` still contain zero in `df1`, I'll have to select the rows without the zeros"
   ]
  },
  {
   "cell_type": "code",
   "execution_count": 25,
   "id": "8dfdfe62",
   "metadata": {},
   "outputs": [
    {
     "data": {
      "text/plain": [
       "995"
      ]
     },
     "execution_count": 25,
     "metadata": {},
     "output_type": "execute_result"
    }
   ],
   "source": [
    "# view the total number of rows with zeros in the budget_adj column\n",
    "df1.query('budget_adj == 0').revenue_adj.count()"
   ]
  },
  {
   "cell_type": "code",
   "execution_count": 26,
   "id": "201185c3",
   "metadata": {},
   "outputs": [],
   "source": [
    "# create new dataframe and select only rows without zero and reset index (index starts from 0)\n",
    "df2 = df1.query('budget_adj != 0').reset_index(drop=True)"
   ]
  },
  {
   "cell_type": "code",
   "execution_count": 27,
   "id": "753e4d3c",
   "metadata": {},
   "outputs": [
    {
     "data": {
      "text/plain": [
       "(3854, 16)"
      ]
     },
     "execution_count": 27,
     "metadata": {},
     "output_type": "execute_result"
    }
   ],
   "source": [
    "df2.shape"
   ]
  },
  {
   "cell_type": "code",
   "execution_count": 28,
   "id": "4325443c",
   "metadata": {},
   "outputs": [
    {
     "data": {
      "text/plain": [
       "(0, 0)"
      ]
     },
     "execution_count": 28,
     "metadata": {},
     "output_type": "execute_result"
    }
   ],
   "source": [
    "# confirm total number of rows with zeros in both budget and revenue columns\n",
    "df2.query('revenue_adj == 0 ').revenue_adj.count(), df2.query('budget_adj == 0 ').revenue_adj.count()"
   ]
  },
  {
   "cell_type": "code",
   "execution_count": 29,
   "id": "7f58ee47",
   "metadata": {},
   "outputs": [
    {
     "data": {
      "text/html": [
       "<div>\n",
       "<style scoped>\n",
       "    .dataframe tbody tr th:only-of-type {\n",
       "        vertical-align: middle;\n",
       "    }\n",
       "\n",
       "    .dataframe tbody tr th {\n",
       "        vertical-align: top;\n",
       "    }\n",
       "\n",
       "    .dataframe thead th {\n",
       "        text-align: right;\n",
       "    }\n",
       "</style>\n",
       "<table border=\"1\" class=\"dataframe\">\n",
       "  <thead>\n",
       "    <tr style=\"text-align: right;\">\n",
       "      <th></th>\n",
       "      <th>id</th>\n",
       "      <th>popularity</th>\n",
       "      <th>budget</th>\n",
       "      <th>revenue</th>\n",
       "      <th>original_title</th>\n",
       "      <th>cast</th>\n",
       "      <th>director</th>\n",
       "      <th>runtime</th>\n",
       "      <th>genres</th>\n",
       "      <th>production_companies</th>\n",
       "      <th>release_date</th>\n",
       "      <th>vote_count</th>\n",
       "      <th>vote_average</th>\n",
       "      <th>release_year</th>\n",
       "      <th>budget_adj</th>\n",
       "      <th>revenue_adj</th>\n",
       "      <th>profit</th>\n",
       "    </tr>\n",
       "  </thead>\n",
       "  <tbody>\n",
       "    <tr>\n",
       "      <th>0</th>\n",
       "      <td>135397</td>\n",
       "      <td>32.985763</td>\n",
       "      <td>150000000</td>\n",
       "      <td>1513528810</td>\n",
       "      <td>Jurassic World</td>\n",
       "      <td>Chris Pratt|Bryce Dallas Howard|Irrfan Khan|Vi...</td>\n",
       "      <td>Colin Trevorrow</td>\n",
       "      <td>124</td>\n",
       "      <td>Action|Adventure|Science Fiction|Thriller</td>\n",
       "      <td>Universal Studios|Amblin Entertainment|Legenda...</td>\n",
       "      <td>2006-09-15</td>\n",
       "      <td>5562</td>\n",
       "      <td>6.5</td>\n",
       "      <td>2015</td>\n",
       "      <td>137999939.3</td>\n",
       "      <td>1.392446e+09</td>\n",
       "      <td>1.254446e+09</td>\n",
       "    </tr>\n",
       "  </tbody>\n",
       "</table>\n",
       "</div>"
      ],
      "text/plain": [
       "       id  popularity     budget     revenue  original_title  \\\n",
       "0  135397   32.985763  150000000  1513528810  Jurassic World   \n",
       "\n",
       "                                                cast         director  \\\n",
       "0  Chris Pratt|Bryce Dallas Howard|Irrfan Khan|Vi...  Colin Trevorrow   \n",
       "\n",
       "   runtime                                     genres  \\\n",
       "0      124  Action|Adventure|Science Fiction|Thriller   \n",
       "\n",
       "                                production_companies release_date  vote_count  \\\n",
       "0  Universal Studios|Amblin Entertainment|Legenda...   2006-09-15        5562   \n",
       "\n",
       "   vote_average  release_year   budget_adj   revenue_adj        profit  \n",
       "0           6.5          2015  137999939.3  1.392446e+09  1.254446e+09  "
      ]
     },
     "execution_count": 29,
     "metadata": {},
     "output_type": "execute_result"
    }
   ],
   "source": [
    "# created a new column with profit and confirm\n",
    "\n",
    "df1['profit'] = df1['revenue_adj'] - df1['budget_adj']\n",
    "df1.head(1)"
   ]
  },
  {
   "cell_type": "code",
   "execution_count": 30,
   "id": "52b9ef79",
   "metadata": {},
   "outputs": [
    {
     "name": "stdout",
     "output_type": "stream",
     "text": [
      "Correlation Between Profit and Popularity :  0.5239539414925217\n"
     ]
    },
    {
     "data": {
      "image/png": "[encoded data removed]",
      "text/plain": [
       "<Figure size 576x576 with 1 Axes>"
      ]
     },
     "metadata": {},
     "output_type": "display_data"
    }
   ],
   "source": [
    "# scatter plot to view correlation between popularity and profit\n",
    "\n",
    "df1.plot(x='popularity', y='profit', kind='scatter', figsize=(8,8))\n",
    "\n",
    "plt.title(\"Correlation between Profit and Popularity \",fontsize=15)\n",
    "plt.xlabel('Popularity',fontsize=15)\n",
    "plt.ylabel(\"Profit\",fontsize= 15);\n",
    "\n",
    "\n",
    "#correlation between the variables\n",
    "df1_corr = df1.corr()\n",
    "print(\"Correlation Between Profit and Popularity : \",df1_corr.loc['popularity','profit'])"
   ]
  },
  {
   "cell_type": "markdown",
   "id": "53ec9509",
   "metadata": {},
   "source": [
    "## Q3. What Movie Genre is most popular amongst people?\n",
    "\n",
    "As stated in the data wrangling section, I will be selecting the rows without NaN from the original datafram for the analysis."
   ]
  },
  {
   "cell_type": "code",
   "execution_count": 31,
   "id": "95a30c0a",
   "metadata": {},
   "outputs": [],
   "source": [
    "# select rows that are not NaN and create new dataframe for analysis\n",
    "df_genre = df[df['genres'].notna()]"
   ]
  },
  {
   "cell_type": "code",
   "execution_count": 32,
   "id": "74e68a07",
   "metadata": {},
   "outputs": [
    {
     "data": {
      "text/plain": [
       "10842"
      ]
     },
     "execution_count": 32,
     "metadata": {},
     "output_type": "execute_result"
    }
   ],
   "source": [
    "# confrim nymber of rows in genre\n",
    "df_genre.shape[0]"
   ]
  },
  {
   "cell_type": "code",
   "execution_count": 33,
   "id": "6110ec26",
   "metadata": {},
   "outputs": [
    {
     "data": {
      "text/html": [
       "<div>\n",
       "<style scoped>\n",
       "    .dataframe tbody tr th:only-of-type {\n",
       "        vertical-align: middle;\n",
       "    }\n",
       "\n",
       "    .dataframe tbody tr th {\n",
       "        vertical-align: top;\n",
       "    }\n",
       "\n",
       "    .dataframe thead th {\n",
       "        text-align: right;\n",
       "    }\n",
       "</style>\n",
       "<table border=\"1\" class=\"dataframe\">\n",
       "  <thead>\n",
       "    <tr style=\"text-align: right;\">\n",
       "      <th></th>\n",
       "      <th>genres</th>\n",
       "      <th>popularity</th>\n",
       "    </tr>\n",
       "  </thead>\n",
       "  <tbody>\n",
       "    <tr>\n",
       "      <th>0</th>\n",
       "      <td>Action|Adventure|Science Fiction|Thriller</td>\n",
       "      <td>32.985763</td>\n",
       "    </tr>\n",
       "  </tbody>\n",
       "</table>\n",
       "</div>"
      ],
      "text/plain": [
       "                                      genres  popularity\n",
       "0  Action|Adventure|Science Fiction|Thriller   32.985763"
      ]
     },
     "execution_count": 33,
     "metadata": {},
     "output_type": "execute_result"
    }
   ],
   "source": [
    "# to make the analysis easier, view only the columns we need\n",
    "df_genre[['genres', 'popularity']].head(1)"
   ]
  },
  {
   "cell_type": "markdown",
   "id": "eff6c77c",
   "metadata": {},
   "source": [
    "The dataframe above shows that the `genres` column has rows containing multiple movie genres with the same popularity in a specific year.\n",
    "In order to properly analyze and determine which genre was the most popular by year, we need to seperate the rows that have multiple genres in the `genres` column into individual entity"
   ]
  },
  {
   "cell_type": "code",
   "execution_count": 34,
   "id": "36463b06",
   "metadata": {},
   "outputs": [],
   "source": [
    "from itertools import chain\n",
    "\n",
    "# create a function that return list from series of comma-separated strings\n",
    "def split_chain(a):\n",
    "    return list(chain.from_iterable(a.str.split('|')))"
   ]
  },
  {
   "cell_type": "code",
   "execution_count": 35,
   "id": "c8340eab",
   "metadata": {},
   "outputs": [],
   "source": [
    "# calculate length of splits\n",
    "len_split = df_genre['genres'].str.split('|').map(len)"
   ]
  },
  {
   "cell_type": "code",
   "execution_count": 36,
   "id": "28dfa946",
   "metadata": {},
   "outputs": [],
   "source": [
    "# create new dataframe, repeating or chaining as appropriate\n",
    "\n",
    "df_genre_pop = pd.DataFrame({'genres': split_chain(df_genre['genres']),\n",
    "                            'popularity': np.repeat(df_genre['popularity'], len_split)})"
   ]
  },
  {
   "cell_type": "code",
   "execution_count": 37,
   "id": "d7854622",
   "metadata": {},
   "outputs": [
    {
     "data": {
      "text/plain": [
       "<bound method NDFrame.head of                 genres  popularity\n",
       "0               Action   32.985763\n",
       "1            Adventure   32.985763\n",
       "2      Science Fiction   32.985763\n",
       "3             Thriller   32.985763\n",
       "4               Action   28.419936\n",
       "...                ...         ...\n",
       "26950          Mystery    0.065141\n",
       "26951           Comedy    0.065141\n",
       "26952           Action    0.064317\n",
       "26953           Comedy    0.064317\n",
       "26954           Horror    0.035919\n",
       "\n",
       "[26955 rows x 2 columns]>"
      ]
     },
     "execution_count": 37,
     "metadata": {},
     "output_type": "execute_result"
    }
   ],
   "source": [
    "# reset own index and make default index as index\n",
    "df_genre_pop.reset_index(inplace=True, drop=True)\n",
    "df_genre_pop.head"
   ]
  },
  {
   "cell_type": "code",
   "execution_count": 38,
   "id": "5f9c9a1f",
   "metadata": {},
   "outputs": [
    {
     "data": {
      "text/plain": [
       "genres\n",
       "Adventure          1.154259\n",
       "Science Fiction    1.001548\n",
       "Fantasy            0.992840\n",
       "Name: popularity, dtype: float64"
      ]
     },
     "execution_count": 38,
     "metadata": {},
     "output_type": "execute_result"
    }
   ],
   "source": [
    "# group genres by its popularity form largest to smallest\n",
    "genre_by_popularity = df_genre_pop.groupby('genres').popularity.mean().sort_values(ascending=False)\n",
    "genre_by_popularity.head(3)"
   ]
  },
  {
   "cell_type": "code",
   "execution_count": 39,
   "id": "1aadee50",
   "metadata": {},
   "outputs": [
    {
     "data": {
      "image/png": "[encoded data removed]",
      "text/plain": [
       "<Figure size 864x576 with 1 Axes>"
      ]
     },
     "metadata": {},
     "output_type": "display_data"
    }
   ],
   "source": [
    "# bar chart to view the popularity of movies by genres\n",
    "genre_by_popularity.plot(kind= 'barh',figsize = (12,8),fontsize=12)\n",
    "\n",
    "plt.title(\"Popularity of Movies by Genre \",fontsize=15)\n",
    "plt.xlabel('Popularity',fontsize=15)\n",
    "plt.ylabel(\"Genres\",fontsize= 15);"
   ]
  },
  {
   "cell_type": "markdown",
   "id": "fe21281d",
   "metadata": {},
   "source": [
    "## Q4. Over the years, what genre has produced the most movies??\n",
    "\n",
    "For this analysis, I will be using the `df_genre` dataframe from the previous question"
   ]
  },
  {
   "cell_type": "code",
   "execution_count": 40,
   "id": "8048df98",
   "metadata": {},
   "outputs": [
    {
     "data": {
      "text/plain": [
       "10842"
      ]
     },
     "execution_count": 40,
     "metadata": {},
     "output_type": "execute_result"
    }
   ],
   "source": [
    "# confrim nymber of rows in genre\n",
    "df_genre.shape[0]"
   ]
  },
  {
   "cell_type": "code",
   "execution_count": 41,
   "id": "1c88cf81",
   "metadata": {},
   "outputs": [],
   "source": [
    "# create a function that will split the string in column and return the count\n",
    "def split_count(x):\n",
    "    split_str = df_genre[x].str.cat(sep = '|')\n",
    "    cnt = pd.Series(split_str.split('|'))\n",
    "    data = cnt.value_counts(ascending=False)\n",
    "    return data"
   ]
  },
  {
   "cell_type": "code",
   "execution_count": 42,
   "id": "91951851",
   "metadata": {},
   "outputs": [
    {
     "data": {
      "text/plain": [
       "Drama              4760\n",
       "Comedy             3793\n",
       "Thriller           2907\n",
       "Action             2384\n",
       "Romance            1712\n",
       "Horror             1637\n",
       "Adventure          1471\n",
       "Crime              1354\n",
       "Family             1231\n",
       "Science Fiction    1229\n",
       "Fantasy             916\n",
       "Mystery             810\n",
       "Animation           699\n",
       "Documentary         520\n",
       "Music               408\n",
       "History             334\n",
       "War                 270\n",
       "Foreign             188\n",
       "TV Movie            167\n",
       "Western             165\n",
       "dtype: int64"
      ]
     },
     "execution_count": 42,
     "metadata": {},
     "output_type": "execute_result"
    }
   ],
   "source": [
    "count_movie_genre = split_count('genres')\n",
    "count_movie_genre"
   ]
  },
  {
   "cell_type": "code",
   "execution_count": 43,
   "id": "3ad8f144",
   "metadata": {},
   "outputs": [
    {
     "data": {
      "image/png": "[encoded data removed]",
      "text/plain": [
       "<Figure size 864x576 with 1 Axes>"
      ]
     },
     "metadata": {},
     "output_type": "display_data"
    }
   ],
   "source": [
    "# bar chart that shows the number of movies by genre \n",
    "count_movie_genre.plot(kind= 'bar',figsize = (12,8),fontsize=12)\n",
    "\n",
    "plt.title(\"Number of Movies by Genre\",fontsize=15)\n",
    "plt.xlabel('Genres',fontsize=15)\n",
    "plt.ylabel(\"Number of Movies\",fontsize= 15);"
   ]
  },
  {
   "cell_type": "markdown",
   "id": "4e327102",
   "metadata": {},
   "source": [
    "## Q5. Best Director based on Movie Popularity?\n",
    "\n",
    "To preserve the quality of the entire dataset, I will not be dropping the NaN values in the `director` column of the dataframe. However, I will be selecting only the rows that are not NaN to answer the question"
   ]
  },
  {
   "cell_type": "code",
   "execution_count": 44,
   "id": "9dd50519",
   "metadata": {},
   "outputs": [],
   "source": [
    "# select rows that are not NaN and create new dataframe for analysis\n",
    "df_director = df[df['director'].notna()]"
   ]
  },
  {
   "cell_type": "code",
   "execution_count": 45,
   "id": "76c180af",
   "metadata": {},
   "outputs": [],
   "source": [
    "# calculate length of splits\n",
    "len_split = df_director['director'].str.split('|').map(len)"
   ]
  },
  {
   "cell_type": "code",
   "execution_count": 46,
   "id": "2bc7ddf6",
   "metadata": {},
   "outputs": [],
   "source": [
    "# create new dataframe consisting of director and popularity columns\n",
    "df_popular_dir = pd.DataFrame({'director': split_chain(df_director['director']),\n",
    "                            'popularity': np.repeat(df_director['popularity'], len_split)})"
   ]
  },
  {
   "cell_type": "code",
   "execution_count": 47,
   "id": "91ba602d",
   "metadata": {},
   "outputs": [
    {
     "data": {
      "text/plain": [
       "5362"
      ]
     },
     "execution_count": 47,
     "metadata": {},
     "output_type": "execute_result"
    }
   ],
   "source": [
    "# total number of directors\n",
    "df_popular_dir.director.nunique()"
   ]
  },
  {
   "cell_type": "code",
   "execution_count": 48,
   "id": "532cf628",
   "metadata": {},
   "outputs": [],
   "source": [
    "# Top 10 most popular directors\n",
    "popular_directors = df_popular_dir.groupby('director').popularity.mean().sort_values(ascending=False).head(10)"
   ]
  },
  {
   "cell_type": "code",
   "execution_count": 49,
   "id": "6d895b17",
   "metadata": {},
   "outputs": [
    {
     "data": {
      "image/png": "[encoded data removed]",
      "text/plain": [
       "<Figure size 504x504 with 1 Axes>"
      ]
     },
     "metadata": {},
     "output_type": "display_data"
    }
   ],
   "source": [
    "# bar chart of top directors based on the popularity of their movies\n",
    "popular_directors.plot(kind='barh', figsize=(7,7))\n",
    "\n",
    "plt.title(\"Top 10 Directors based on Popularity of Movies Produced\",fontsize=15)\n",
    "plt.xlabel('Popularity',fontsize=15)\n",
    "plt.ylabel(\"Director\",fontsize= 15);"
   ]
  },
  {
   "cell_type": "markdown",
   "id": "e9cf25ef",
   "metadata": {},
   "source": [
    "## Q6. When are most movies released in the year?\n",
    "\n",
    "I will be using the original data set for this analysis since it does not contain any NaN value in the `release_date` column"
   ]
  },
  {
   "cell_type": "code",
   "execution_count": 50,
   "id": "ad295f4c",
   "metadata": {},
   "outputs": [
    {
     "data": {
      "text/plain": [
       "0     9\n",
       "1     5\n",
       "2     3\n",
       "3    12\n",
       "4     1\n",
       "Name: month, dtype: int64"
      ]
     },
     "execution_count": 50,
     "metadata": {},
     "output_type": "execute_result"
    }
   ],
   "source": [
    "# extract months from years as numbers and confirm\n",
    "\n",
    "df['month'] = df['release_date'].dt.month\n",
    "df.month.head()"
   ]
  },
  {
   "cell_type": "code",
   "execution_count": 51,
   "id": "e84fb955",
   "metadata": {},
   "outputs": [
    {
     "data": {
      "text/plain": [
       "month\n",
       "1     1081\n",
       "2      642\n",
       "3      798\n",
       "4      796\n",
       "5      860\n",
       "6      864\n",
       "7      880\n",
       "8      917\n",
       "9     1085\n",
       "10    1084\n",
       "11     859\n",
       "12     999\n",
       "Name: month, dtype: int64"
      ]
     },
     "execution_count": 51,
     "metadata": {},
     "output_type": "execute_result"
    }
   ],
   "source": [
    "# total number of movies relased by month \n",
    "release_per_month = df.groupby('month').month.count()\n",
    "release_per_month"
   ]
  },
  {
   "cell_type": "code",
   "execution_count": 52,
   "id": "12c3f831",
   "metadata": {},
   "outputs": [
    {
     "data": {
      "image/png": "[encoded data removed]",
      "text/plain": [
       "<Figure size 720x360 with 1 Axes>"
      ]
     },
     "metadata": {},
     "output_type": "display_data"
    }
   ],
   "source": [
    "# bar chart of Number of Movies released by Month\n",
    "months=['Jan','Feb','Mar','Apr','May','Jun','Jul','Aug','Sep','Oct','Nov','Dec']\n",
    "\n",
    "plt.subplots(figsize=(10,5))\n",
    "plt.bar(months, release_per_month)\n",
    "plt.title('Number of Movies released by Month', fontsize=(16))\n",
    "plt.ylabel('Number of Movies Released', fontsize=(13))\n",
    "plt.xlabel('Months', fontsize=(15));"
   ]
  },
  {
   "cell_type": "markdown",
   "id": "eb25b070",
   "metadata": {},
   "source": [
    "<a id='conclusions'></a>\n",
    "# Conclusions \n",
    "\n",
    "In this project, analysis has been done on to identify associations between different features. Although some variables seem to be strongly correlated to each other, we cannot imply there is a causal relationship.\n",
    "\n",
    "1) From the analysis about revenue:\n",
    "\n",
    "   - From the mid 1960's there was a continuous decline in revenue, with the mid 80's having the lowest revenues for movies. \n",
    "      \n",
    "   - There is a moderatly positive correlation between revenue and popularity of movies.          - \n",
    "      \n",
    "   - There is a weak positive correlation between revenue and average ratings of movies \n",
    "  \n",
    " There were a lot zero values in the data which questions the integrity of the data. However, additional research could be done with a larger and more recent dataset which could reveal compeltely different findings. \n",
    "\n",
    "\n",
    "2) There is a positive correlation of about 0.52 between a Movie's success and its popularity\n",
    "\n",
    "3) Adventure seems to be the most popular genre that people watch. Additional reasearch could be done with dataset that includes other countries to identify most popular genre by country.\n",
    "\n",
    "4) Since 1960, the most movies have been produced in the Drama genre.\n",
    "\n",
    "5) Based on the popularity of the movies, Colin Trevorrow is the best director\n",
    "\n",
    "6) Since the 1960's , most movies have been released in the month of January, September and October.\n"
   ]
  },
  {
   "cell_type": "markdown",
   "id": "85b0ff46",
   "metadata": {},
   "source": [
    "<a id='limitations'></a>\n",
    "# Limitations"
   ]
  },
  {
   "cell_type": "markdown",
   "id": "b17d4f99",
   "metadata": {},
   "source": [
    "This project was limited due to several reasons;\n",
    "\n",
    "- About 55% of the rows in the revenue and budget column were filled with zeros which compromised the integrity of the data, as there was insufficient data to perform proper analysis.\n",
    "\n",
    "\n",
    "- The runtime was another huge limitation as runtime is not properly labelled. It can be seen that run time goes as high as 900 minutes which is rare. A lot of movies with runtime over 400 sec are televesion series whcih should not be considered a movie.\n",
    "\n",
    "- The director column had 44 missing rows which is a huge factor in the analysis. Hence, the complete data of directors might have resulted in a different finding"
   ]
  },
  {
   "cell_type": "markdown",
   "id": "3f027303",
   "metadata": {},
   "source": [
    "# References\n",
    "\n",
    "- [Split cell into multiple rows in pandas dataframe](https://stackoverflow.com/questions/50731229/split-cell-into-multiple-rows-in-pandas-dataframe)\n",
    "\n",
    "- [Python for Data Analysis](https://www.oreilly.com/library/view/python-for-data/9781449323592/)"
   ]
  }
 ],
 "metadata": {
  "kernelspec": {
   "display_name": "Python 3 (ipykernel)",
   "language": "python",
   "name": "python3"
  },
  "language_info": {
   "codemirror_mode": {
    "name": "ipython",
    "version": 3
   },
   "file_extension": ".py",
   "mimetype": "text/x-python",
   "name": "python",
   "nbconvert_exporter": "python",
   "pygments_lexer": "ipython3",
   "version": "3.9.12"
  }
 },
 "nbformat": 4,
 "nbformat_minor": 5
}
